{
 "cells": [
  {
   "cell_type": "code",
   "execution_count": null,
   "metadata": {},
   "outputs": [],
   "source": [
    "#네이버카페 크롤링 스크립트\n",
    "#알림-프로그램(코드)실행은 커서놓고 쉬프트+엔터를 하시면 됩니다."
   ]
  },
  {
   "cell_type": "code",
   "execution_count": null,
   "metadata": {},
   "outputs": [],
   "source": [
    "print('크롤링 프로그램을 시작합니다.')\n",
    "print('----------')\n",
    "print('알림')\n",
    "print('프로그램 실행 전, C:\\chromedriver 폴더에 chromedriver.exe파일을 다운받아서 갖다놓아야 합니다.')\n",
    "print('프로그램 실행 전, wkhtmltopdf가 설치되어 있어야 합니다.')\n",
    "print('프로그램 실행 전, C:/Users/사용자이름 폴더에 \"cafe\"라는 이름을 가진 폴더가 하나 있어야 합니다.')\n",
    "print('오류가 있을시, 스크린샷 첨부해서 admin@nonaver.com으로 메일 주시면 도와드리겠습니다.')"
   ]
  },
  {
   "cell_type": "code",
   "execution_count": null,
   "metadata": {},
   "outputs": [],
   "source": [
    "## 0. 프로그램 초기화(프로그램을 껐다가 켰거나 크롬창을 닫아버렸을경우 한번 실행시켜 줍니다.)\n",
    "###이거 실행시키면 잠시후 자동화 제어되는 크롬창이 뜹니다.\n",
    "import selenium #모듈 인포트\n",
    "import os\n",
    "from selenium import webdriver\n",
    "driver = webdriver.Chrome(executable_path=\"C:\\chromedriver\\chromedriver.exe\")\n",
    "driver.implicitly_wait(1)\n",
    "import time\n",
    "driver.get(\"http://naver.com\")\n",
    "\n",
    "print('여기 네이버 창에서 로그인 합니다.(이렇게 개입하셔도 오류 안납니다)')\n",
    "print('네이버 로그인까지 자동화 하게되면 스트립트가 너무 복잡해 집니다..... 그리고 여긴 암호화도 안되고 저장되기에 개인정보는 좀....')\n",
    "print('중간에 이렇게 개입하실 때에는 탭 절대 닫지 않습니다. 탭이 닫히게 되면 프로그램이 컨트롤을 못해서 오류가 뜹니다.')\n"
   ]
  },
  {
   "cell_type": "code",
   "execution_count": null,
   "metadata": {},
   "outputs": [],
   "source": [
    "print('https://cafe.naver.com/skyplanet와 같이 카페 주소를 입력하세요.')\n",
    "print('뒤쪽 슬래시 있으면 안됩니다. 없애주세요!')\n",
    "cafedir = input('카페 주소를 입력하고 엔터키 누르세요. 예:https://cafe.naver.com/skyplanet ')\n",
    "start = input('저장을 시작할 게시글 번호를 입력하고 엔터키 누르세요: ')\n",
    "end = input('저장을 끝낼 게시글 번호를 입력하고 엔터키 누르세요: ')\n",
    "start=int(start)\n",
    "end=int(end)\n",
    "print('카페 설정 완료되었습니다.')"
   ]
  },
  {
   "cell_type": "code",
   "execution_count": null,
   "metadata": {},
   "outputs": [],
   "source": [
    "##크롤링중 중단하시려면 해당 셀을 클릭하신 후 키보드의 i키를 2번 누르세요.\n",
    "sleeptime=input('딜레이를 몇 초나 줄지 입력하세요: ')\n",
    "username=os.environ.get('USERNAME')\n",
    "print('알림:사용자이름은 %s 입니다' % username)\n",
    "print('컴퓨터 설정 완료됬습니다.')"
   ]
  },
  {
   "cell_type": "code",
   "execution_count": null,
   "metadata": {},
   "outputs": [],
   "source": [
    "#본격 크롤링 시작.\n",
    "tno=start\n",
    "while tno <=end:\n",
    "    no=cafedir + \"/\"+ str(tno)\n",
    "    driver.get(no)\n",
    "    time.sleep(int(sleeptime))\n",
    "    try:\n",
    "        alert = driver.switch_to_alert()\n",
    "        alert.accept()\n",
    "        print(\"%d번 게시글은 존재하지 않음\" % tno)\n",
    "        tno = tno +1\n",
    "    except:\n",
    "        driver.switch_to_frame('cafe_main')\n",
    "        html = driver.page_source.encode('utf-8')\n",
    "        html= html.decode('utf-8')\n",
    "        f = open('C:/Users/%s/cafe/%d.html' % (username, int(tno)) , 'w' , encoding='UTF-8') 
    "        html = html.replace(u'<iframe title=\"답변쓰기에디터\"' , u'w')\n",
    "        f.write(html)\n",
    "        f.close()\n",
    "        print(\"%d번 게시글 저장완료.\" % int(tno))\n",
    "        os.system('start cmd /c start /d \"C:/Program Files/wkhtmltopdf/bin/\" /b wkhtmltopdf.exe --encoding UTF-8 C:/Users/%s/cafe/%d.html C:/Users/%s/cafe/%d.pdf' % (username,tno,username,tno))\n",
    "        print(\"%d번 게시글 변환요청 완료.\" % int(tno))\n",
    "        tno = tno +1"
   ]
  },
  {
   "cell_type": "code",
   "execution_count": null,
   "metadata": {},
   "outputs": [],
   "source": []
  },
  {
   "cell_type": "code",
   "execution_count": null,
   "metadata": {},
   "outputs": [],
   "source": []
  },
  {
   "cell_type": "code",
   "execution_count": null,
   "metadata": {},
   "outputs": [],
   "source": []
  },
  {
   "cell_type": "code",
   "execution_count": null,
   "metadata": {},
   "outputs": [],
   "source": []
  },
  {
   "cell_type": "code",
   "execution_count": null,
   "metadata": {},
   "outputs": [],
   "source": []
  },
  {
   "cell_type": "code",
   "execution_count": null,
   "metadata": {},
   "outputs": [],
   "source": []
  },
  {
   "cell_type": "code",
   "execution_count": null,
   "metadata": {},
   "outputs": [],
   "source": []
  },
  {
   "cell_type": "code",
   "execution_count": null,
   "metadata": {},
   "outputs": [],
   "source": []
  },
  {
   "cell_type": "code",
   "execution_count": null,
   "metadata": {},
   "outputs": [],
   "source": []
  },
  {
   "cell_type": "code",
   "execution_count": null,
   "metadata": {},
   "outputs": [],
   "source": []
  }
 ],
 "metadata": {
  "kernelspec": {
   "display_name": "Python 3",
   "language": "python",
   "name": "python3"
  },
  "language_info": {
   "codemirror_mode": {
    "name": "ipython",
    "version": 3
   },
   "file_extension": ".py",
   "mimetype": "text/x-python",
   "name": "python",
   "nbconvert_exporter": "python",
   "pygments_lexer": "ipython3",
   "version": "3.6.5"
  }
 },
 "nbformat": 4,
 "nbformat_minor": 2
}
